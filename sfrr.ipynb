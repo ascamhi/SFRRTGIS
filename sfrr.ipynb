{
 "metadata": {
  "name": "sfrr.ipynb"
 },
 "nbformat": 3,
 "nbformat_minor": 0,
 "worksheets": [
  {
   "cells": [
    {
     "cell_type": "markdown",
     "metadata": {},
     "source": [
      "Reproduction of results for:\n",
      "\n",
      "Fan, C., Rey, S.J., & Myint, S.W. \"Spatially filtered ridge regression (SFRR): A regression framework to understanding impacts of land cover patterns on urban climate.\" Transactions in GIS. (accepted)"
     ]
    },
    {
     "cell_type": "code",
     "collapsed": false,
     "input": [
      "import numpy as np\n",
      "import pysal as ps\n",
      "import numpy.linalg as la"
     ],
     "language": "python",
     "metadata": {},
     "outputs": [],
     "prompt_number": 1
    },
    {
     "cell_type": "markdown",
     "metadata": {},
     "source": [
      "**Prepare input data**"
     ]
    },
    {
     "cell_type": "code",
     "collapsed": false,
     "input": [
      "dataSet = np.loadtxt(\"Data_set.txt\",skiprows=2)\n",
      "x1 = dataSet[:,1:11]\n",
      "y = dataSet[:,11]\n",
      "n = y.shape[0]\n",
      "xx = np.hstack((np.ones((n,1)),x1))\n",
      "y1 = np.array([y.tolist()]).T\n",
      "p = x1.shape[1]\n",
      "w = ps.lat2W(int(power(n,0.5)),int(power(n,0.5)))\n",
      "w.transform = 'r'\n",
      "bigw = ps.full(w)[0]\n",
      "y_name = \"sdtemp\"\n",
      "x_names = [\"grass_fraction\",\"grass_pattern\",\"tree_fraction\",\"tree_pattern\",\"building_fraction\",\"building_pattern\",\"pave_fraction\",\"pave_pattern\",\"soil_fraction\",\"soil_pattern\"]"
     ],
     "language": "python",
     "metadata": {},
     "outputs": [],
     "prompt_number": 9
    },
    {
     "cell_type": "markdown",
     "metadata": {},
     "source": [
      "** Run OLS regression**"
     ]
    },
    {
     "cell_type": "code",
     "collapsed": false,
     "input": [
      "ols1 = ps.spreg.OLS(y1,x1,w=w,nonspat_diag=True,spat_diag=True,moran=True,name_y=y_name,name_x=x_names)\n",
      "print ols1.summary"
     ],
     "language": "python",
     "metadata": {},
     "outputs": [
      {
       "output_type": "stream",
       "stream": "stdout",
       "text": [
        "REGRESSION\n",
        "----------\n",
        "SUMMARY OF OUTPUT: ORDINARY LEAST SQUARES\n",
        "-----------------------------------------\n",
        "Data set            :     unknown\n",
        "Weights matrix      :     unknown\n",
        "Dependent Variable  :      sdtemp                Number of Observations:         900\n",
        "Mean dependent var  :     55.6808                Number of Variables   :          11\n",
        "S.D. dependent var  :      2.6083                Degrees of Freedom    :         889\n",
        "R-squared           :      0.6329\n",
        "Adjusted R-squared  :      0.6287\n",
        "Sum squared residual:    2245.503                F-statistic           :    153.2408\n",
        "Sigma-square        :       2.526                Prob(F-statistic)     :  9.933e-186\n",
        "S.E. of regression  :       1.589                Log likelihood        :   -1688.475\n",
        "Sigma-square ML     :       2.495                Akaike info criterion :    3398.950\n",
        "S.E of regression ML:      1.5796                Schwarz criterion     :    3451.777\n",
        "\n",
        "------------------------------------------------------------------------------------\n",
        "            Variable     Coefficient       Std.Error     t-Statistic     Probability\n",
        "------------------------------------------------------------------------------------\n",
        "            CONSTANT      41.4481090       1.8308408      22.6388378       0.0000000\n",
        "   building_fraction       9.8118668       1.7560389       5.5874996       0.0000000\n",
        "    building_pattern      -3.0141989       1.0353219      -2.9113639       0.0036885\n",
        "      grass_fraction       1.6116833       1.5630099       1.0311408       0.3027552\n",
        "       grass_pattern      -4.1418265       0.8438469      -4.9082676       0.0000011\n",
        "       pave_fraction       2.8842891       1.2571247       2.2943541       0.0220025\n",
        "        pave_pattern      -2.0585850       0.6440883      -3.1961221       0.0014420\n",
        "       soil_fraction       5.1254825       1.7056697       3.0049678       0.0027307\n",
        "        soil_pattern      -0.1869079       0.9005760      -0.2075426       0.8356336\n",
        "       tree_fraction       7.8921624       2.8962783       2.7249324       0.0065578\n",
        "        tree_pattern      -7.1239340       1.0574303      -6.7370247       0.0000000\n",
        "------------------------------------------------------------------------------------\n",
        "\n",
        "REGRESSION DIAGNOSTICS\n",
        "MULTICOLLINEARITY CONDITION NUMBER          110.470\n",
        "\n",
        "TEST ON NORMALITY OF ERRORS\n",
        "TEST                             DF        VALUE           PROB\n",
        "Jarque-Bera                       2         431.649           0.0000\n",
        "\n",
        "DIAGNOSTICS FOR HETEROSKEDASTICITY\n",
        "RANDOM COEFFICIENTS\n",
        "TEST                             DF        VALUE           PROB\n",
        "Breusch-Pagan test               10         595.914           0.0000\n",
        "Koenker-Bassett test             10         279.334           0.0000\n",
        "\n",
        "DIAGNOSTICS FOR SPATIAL DEPENDENCE\n",
        "TEST                           MI/DF       VALUE           PROB\n",
        "Moran's I (error)              0.0345         1.486           0.1373\n",
        "Lagrange Multiplier (lag)         1          10.299           0.0013\n",
        "Robust LM (lag)                   1           9.660           0.0019\n",
        "Lagrange Multiplier (error)       1           2.049           0.1523\n",
        "Robust LM (error)                 1           1.410           0.2350\n",
        "Lagrange Multiplier (SARMA)       2          11.709           0.0029\n",
        "\n",
        "================================ END OF REPORT =====================================\n"
       ]
      }
     ],
     "prompt_number": 11
    },
    {
     "cell_type": "markdown",
     "metadata": {},
     "source": [
      "** Pseudo R square for OLS **"
     ]
    },
    {
     "cell_type": "code",
     "collapsed": false,
     "input": [
      "test = ps.spreg.BaseOLS(y1,xx)\n",
      "beta = test.betas\n",
      "pred = np.dot(xx,beta)\n",
      "y_pred = np.vstack((np.transpose(y1),np.transpose(pred)))\n",
      "corr = np.corrcoef(y_pred)\n",
      "print 'The pseudo R square for OLS is: ',np.square(corr)[0][1]"
     ],
     "language": "python",
     "metadata": {},
     "outputs": [
      {
       "output_type": "stream",
       "stream": "stdout",
       "text": [
        "The pseudo R square for OLS is:  0.632858285393\n"
       ]
      }
     ],
     "prompt_number": 18
    },
    {
     "cell_type": "markdown",
     "metadata": {},
     "source": [
      "** Run spatial lag model **"
     ]
    },
    {
     "cell_type": "code",
     "collapsed": false,
     "input": [
      "splag = ps.spreg.GM_Lag(y1,x1,w=w,spat_diag=True,w_lags=1,name_y=y_name,name_x=x_names)\n",
      "print splag.summary\n",
      "rho_estimate = splag.rho"
     ],
     "language": "python",
     "metadata": {},
     "outputs": [
      {
       "output_type": "stream",
       "stream": "stdout",
       "text": [
        "REGRESSION\n",
        "----------\n",
        "SUMMARY OF OUTPUT: SPATIAL TWO STAGE LEAST SQUARES\n",
        "--------------------------------------------------\n",
        "Data set            :     unknown\n",
        "Weights matrix      :     unknown\n",
        "Dependent Variable  :      sdtemp                Number of Observations:         900\n",
        "Mean dependent var  :     55.6808                Number of Variables   :          12\n",
        "S.D. dependent var  :      2.6083                Degrees of Freedom    :         888\n",
        "Pseudo R-squared    :      0.6381\n",
        "Spatial Pseudo R-squared:  0.6371\n",
        "\n",
        "------------------------------------------------------------------------------------\n",
        "            Variable     Coefficient       Std.Error     z-Statistic     Probability\n",
        "------------------------------------------------------------------------------------\n",
        "            CONSTANT      33.9152098       3.0356673      11.1722419       0.0000000\n",
        "            W_sdtemp       0.1351543       0.0437708       3.0877736       0.0020166\n",
        "   building_fraction       9.6157085       1.7339201       5.5456469       0.0000000\n",
        "    building_pattern      -2.9218597       1.0220324      -2.8588719       0.0042515\n",
        "      grass_fraction       1.4517149       1.5431561       0.9407441       0.3468360\n",
        "       grass_pattern      -4.0638778       0.8330411      -4.8783642       0.0000011\n",
        "       pave_fraction       2.7182979       1.2416209       2.1893138       0.0285740\n",
        "        pave_pattern      -1.9925377       0.6359083      -3.1333726       0.0017281\n",
        "       soil_fraction       5.3908324       1.6852470       3.1988382       0.0013798\n",
        "        soil_pattern      -0.3614700       0.8904319      -0.4059490       0.6847800\n",
        "       tree_fraction       8.3693685       2.8620527       2.9242537       0.0034528\n",
        "        tree_pattern      -7.1845755       1.0435948      -6.8844492       0.0000000\n",
        "------------------------------------------------------------------------------------\n",
        "Instrumented: W_sdtemp\n",
        "Instruments: W_building_fraction, W_building_pattern, W_grass_fraction,\n",
        "             W_grass_pattern, W_pave_fraction, W_pave_pattern,\n",
        "             W_soil_fraction, W_soil_pattern, W_tree_fraction,\n",
        "             W_tree_pattern\n",
        "\n",
        "DIAGNOSTICS FOR SPATIAL DEPENDENCE\n",
        "TEST                           MI/DF       VALUE           PROB\n",
        "Anselin-Kelejian Test             1           1.529          0.2162\n",
        "================================ END OF REPORT =====================================\n"
       ]
      }
     ],
     "prompt_number": 16
    },
    {
     "cell_type": "markdown",
     "metadata": {},
     "source": [
      "** Apply spatial filter on dependent variable **"
     ]
    },
    {
     "cell_type": "code",
     "collapsed": false,
     "input": [
      "y_filtered = np.dot((np.eye(len(y1)) - rho_estimate * bigw),y1)"
     ],
     "language": "python",
     "metadata": {},
     "outputs": [],
     "prompt_number": 19
    },
    {
     "cell_type": "markdown",
     "metadata": {},
     "source": [
      "** Run ridge regression **"
     ]
    },
    {
     "cell_type": "code",
     "collapsed": false,
     "input": [
      "def ridgeRegression(y,x):\n",
      "    \"\"\"\n",
      "    \"\"\"\n",
      "    n = y.shape[0]\n",
      "    yR = y.reshape((n,1))\n",
      "    p = x.shape[1]\n",
      "    tX = np.transpose(x)\n",
      "    sY = np.std(y,ddof = 1)\n",
      "    sX1 = np.std(tX[0],ddof = 1)\n",
      "    xx = np.hstack((np.ones((n,1)),x))\n",
      "    x_x = np.dot(xx.T,xx)\n",
      "    \n",
      "    # Derive rYX and rXX\n",
      "    # rYX and rXX correlation matrices used to calculate standardized regression coefficients\n",
      "    rXX = np.corrcoef(tX)\n",
      "    rYX = np.zeros((p,1))\n",
      "    for i in range(p):\n",
      "        rYX[i] = np.corrcoef(y,tX[i])[0][1]\n",
      "    \n",
      "    # Calculate bR for c in the range from 0 to 0.5 with the step of 0.01\n",
      "    # bR is the standardized regression coefficients\n",
      "    # c is bias constant\n",
      "    parameter = np.arange(0,1,0.01)\n",
      "    bR = np.zeros((len(parameter),p))\n",
      "    counter = 0\n",
      "    for c in parameter:\n",
      "        staX = np.linalg.inv(rXX + c * np.eye(p))\n",
      "        bR[counter] = np.transpose(np.dot(staX,rYX))\n",
      "        counter = counter + 1\n",
      "    \n",
      "    # Calculate difference between successive element in bR\n",
      "    g = np.zeros((p,len(parameter)-1))\n",
      "    tb = np.transpose(bR)\n",
      "    for i in range(p):\n",
      "        g[i] = np.diff(tb[i])\n",
      "        \n",
      "    # Find the index of first-order difference in g for each regression coefficient\n",
      "    pi = []\n",
      "    for i in range(p):\n",
      "        for j in range(len(parameter)-1):\n",
      "            if abs(g[i][j]) < 0.00105:\n",
      "                pi.append(j)\n",
      "                break\n",
      "    bias = parameter[max(pi)]\n",
      "    \n",
      "    # Calculate bR using the selected bias constant\n",
      "    bRk = np.zeros((p,1))\n",
      "    staX = np.linalg.inv(rXX + bias * np.eye(p))\n",
      "    bRk = np.dot(staX,rYX)\n",
      "    \n",
      "    # Transform back to the original variables\n",
      "    b = np.zeros((p,1))\n",
      "    b0 = 0\n",
      "    for i in range(p):\n",
      "        b[i] = sY/np.std(tX[i],ddof = 1)* bRk[i]\n",
      "        b0 = b0 + b[i]*np.mean(tX[i])\n",
      "    b0 = np.mean(y) - b0\n",
      "    beta = np.vstack((b0,b))\n",
      "    \n",
      "    \n",
      "    y_hat = np.dot(xx,beta)\n",
      "    h1 = la.inv(x_x + bias * np.eye(p+1))\n",
      "    h2 = np.dot(xx,h1)\n",
      "    H = np.dot(h2,xx.T)\n",
      "    tr = np.trace(H)\n",
      "    v = n - np.trace(2*H - np.dot(H,H.T))\n",
      "    residual = y.reshape(n,1) - y_hat\n",
      "    sigma_2 = np.dot(residual.T,residual)/v\n",
      "    var = sigma_2*np.dot(np.dot(h1,x_x),h1)\n",
      "    stder = np.sqrt(np.diag(var))\n",
      "    t = beta.T[0]/stder\n",
      "    return beta,bias,var,stder,t,tr"
     ],
     "language": "python",
     "metadata": {},
     "outputs": []
    },
    {
     "cell_type": "code",
     "collapsed": false,
     "input": [
      "y2 = y_filtered.T[0]\n",
      "ridgebeta,bias,var,stder,t,tr = ridgeRegression(y2,x1)\n",
      "print ridgebeta"
     ],
     "language": "python",
     "metadata": {},
     "outputs": [
      {
       "output_type": "stream",
       "stream": "stdout",
       "text": [
        "[[  4.70133829e+01]\n",
        " [ -1.58758123e+00]\n",
        " [ -1.29283660e+00]\n",
        " [ -3.06349243e+00]\n",
        " [ -2.08406514e+00]\n",
        " [  3.83079595e+00]\n",
        " [  1.24592035e+00]\n",
        " [  3.78988886e-01]\n",
        " [ -1.18612985e-02]\n",
        " [  3.03571077e+00]\n",
        " [  1.28536794e+00]]\n"
       ]
      }
     ],
     "prompt_number": 22
    },
    {
     "cell_type": "markdown",
     "metadata": {},
     "source": [
      "** Psuedo R square for SFRR **"
     ]
    },
    {
     "cell_type": "code",
     "collapsed": false,
     "input": [
      "def wtransform(u,w,rho):\n",
      "    \n",
      "    \"\"\"wtransform: spatial autoregressive transformation\n",
      "\n",
      "    arguments:\n",
      "        u: vector to be transformed\n",
      "        w: spatial weights matrix as full matrix\n",
      "        rho: spatial autoregressive coefficient\n",
      "    returns:\n",
      "        v: spatially transformed vector\n",
      "    \"\"\"\n",
      "    c = len(u)\n",
      "    irw = np.eye(c) - rho * w\n",
      "    irwi = la.inv(irw)\n",
      "    v = np.dot(irwi,u)\n",
      "    return v"
     ],
     "language": "python",
     "metadata": {},
     "outputs": [],
     "prompt_number": 23
    },
    {
     "cell_type": "code",
     "collapsed": false,
     "input": [
      "y_hat2 = wtransform(xbeta_ridge,bigw,rho_estimate)\n",
      "#y_hat = np.dot(np.linalg.inv(np.eye(len(y)) - rho_estimate * bigw),y_hat_ridge)\n",
      "residual = y1 - y_hat2\n",
      "y_pred_SFRR = np.vstack((np.transpose(y1),np.transpose(y_hat2)))\n",
      "corr_SFRR = np.corrcoef(y_pred_SFRR)\n",
      "print 'The pseudo R square for SFRR is: ',np.square(corr_SFRR)[0][1]"
     ],
     "language": "python",
     "metadata": {},
     "outputs": [
      {
       "output_type": "stream",
       "stream": "stdout",
       "text": [
        "The pseudo R square for SFRR is:  0.609292052568\n"
       ]
      }
     ],
     "prompt_number": 25
    }
   ],
   "metadata": {}
  }
 ]
}